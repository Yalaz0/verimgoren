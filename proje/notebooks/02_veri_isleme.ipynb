{
 "cells": [
  {
   "cell_type": "code",
   "execution_count": 1,
   "id": "232bebd1-2e0b-4f04-9b19-37adc3d8c00b",
   "metadata": {},
   "outputs": [
    {
     "name": "stdout",
     "output_type": "stream",
     "text": [
      "Gerekli kütüphaneler yüklendi.\n"
     ]
    }
   ],
   "source": [
    "# Eğer bu kütüphaneler kurulu değilse aşağıdaki komutları terminalde çalıştırabilirsiniz:\n",
    "# pip install rasterio geopandas numpy pandas tqdm\n",
    "\n",
    "import os\n",
    "from pathlib import Path\n",
    "import numpy as np\n",
    "import pandas as pd\n",
    "import geopandas as gpd\n",
    "import rasterio\n",
    "from rasterio.merge import merge\n",
    "from rasterio.mask import mask\n",
    "from tqdm import tqdm\n",
    "\n",
    "print(\"Gerekli kütüphaneler yüklendi.\")\n"
   ]
  },
  {
   "cell_type": "code",
   "execution_count": 5,
   "id": "1afdcec7-fbac-40e7-aae4-b8db7108c6ff",
   "metadata": {
    "scrolled": true
   },
   "outputs": [
    {
     "name": "stdout",
     "output_type": "stream",
     "text": [
      "Dosya yolları başarıyla tanımlandı.\n",
      "TÜRKİYE SINIRI: BOUNDARY_PATH.exists() = True, yol: ..\\data\\external\\boundaries\\turkey_boundary.geojson\n",
      "IŞIK VERİSİ: LIGHT_PATH.exists() = True, yol: ..\\data\\raw\\lightpollution\\VNL_npp_2024_global_vcmslcfg_v2_c202502261200.median_masked.dat.tif\n",
      "YÜKSEKLİK VERİSİ DİZİNİ: ELEV_DIR.exists() = True, yol: ..\\data\\raw\\elevation\n"
     ]
    }
   ],
   "source": [
    "\n",
    "# Veri yollarını tanımla\n",
    "RAW_DIR = Path(\"../data/raw\")\n",
    "PROC_DIR = Path(\"../data/processed\")\n",
    "EXTERNAL_DIR = Path(\"../data/external\")  # düzeltme: external raw içinde değil, onunla aynı seviyede\n",
    "\n",
    "ELEV_DIR = RAW_DIR / \"elevation\"\n",
    "LIGHT_PATH = RAW_DIR / \"lightpollution\" / \"VNL_npp_2024_global_vcmslcfg_v2_c202502261200.median_masked.dat.tif\"\n",
    "BOUNDARY_PATH = EXTERNAL_DIR / \"boundaries\" / \"turkey_boundary.geojson\"  # düzeltildi\n",
    "\n",
    "# İşlenmiş dosyaların kayıt edileceği yollar\n",
    "ELEV_MOSAIC_PATH = PROC_DIR / \"srtm_turkiye_mosaic.tif\"\n",
    "ELEV_CROPPED_PATH = PROC_DIR / \"srtm_turkiye_cropped.tif\"\n",
    "LIGHT_CROPPED_PATH = PROC_DIR / \"viirs_light_2024_turkey.tif\"\n",
    "\n",
    "# İşlenmiş veri klasörü varsa oluştur\n",
    "PROC_DIR.mkdir(parents=True, exist_ok=True)\n",
    "\n",
    "print(\"Dosya yolları başarıyla tanımlandı.\")\n",
    "print(f\"TÜRKİYE SINIRI: {BOUNDARY_PATH.exists() = }, yol: {BOUNDARY_PATH}\")\n",
    "print(f\"IŞIK VERİSİ: {LIGHT_PATH.exists() = }, yol: {LIGHT_PATH}\")\n",
    "print(f\"YÜKSEKLİK VERİSİ DİZİNİ: {ELEV_DIR.exists() = }, yol: {ELEV_DIR}\")\n"
   ]
  },
  {
   "cell_type": "code",
   "execution_count": 6,
   "id": "cb136822-85d3-4318-a601-64cb0a7020b5",
   "metadata": {},
   "outputs": [
    {
     "name": "stdout",
     "output_type": "stream",
     "text": [
      "Türkiye sınırları yüklendi ve uygun projeksiyona dönüştürüldü.\n"
     ]
    }
   ],
   "source": [
    "# Türkiye sınırlarını GeoDataFrame olarak yükle\n",
    "gdf_turkey = gpd.read_file(BOUNDARY_PATH)\n",
    "gdf_turkey = gdf_turkey.to_crs(\"EPSG:4326\")  # Raster veriler genelde WGS84 kullanır\n",
    "\n",
    "# GeoJSON geometrisini rasterio ile kullanmak için GeoJSON formatına çevir\n",
    "from shapely.geometry import mapping\n",
    "turkey_geom = [mapping(geom) for geom in gdf_turkey.geometry]\n",
    "\n",
    "print(\"Türkiye sınırları yüklendi ve uygun projeksiyona dönüştürüldü.\")\n"
   ]
  },
  {
   "cell_type": "code",
   "execution_count": 7,
   "id": "e948d462-14f1-4ac7-bfff-6abecd1c083f",
   "metadata": {},
   "outputs": [
    {
     "name": "stderr",
     "output_type": "stream",
     "text": [
      "SRTM dosyaları okunuyor: 100%|██████████| 172/172 [00:01<00:00, 102.47it/s]\n"
     ]
    },
    {
     "name": "stdout",
     "output_type": "stream",
     "text": [
      "Yükseklik verisi mozaiklenerek srtm_turkiye_mosaic.tif dosyasına kaydedildi.\n"
     ]
    }
   ],
   "source": [
    "# Tüm SRTM dosyalarını oku ve birleştir (mozaik)\n",
    "elev_files = list(ELEV_DIR.glob(\"*.tif\"))\n",
    "src_files_to_mosaic = []\n",
    "\n",
    "for fp in tqdm(elev_files, desc=\"SRTM dosyaları okunuyor\"):\n",
    "    src = rasterio.open(fp)\n",
    "    src_files_to_mosaic.append(src)\n",
    "\n",
    "# Mozaik işlemi\n",
    "mosaic, out_transform = merge(src_files_to_mosaic)\n",
    "\n",
    "# Mozaik dosyanın metadata bilgisi\n",
    "out_meta = src.meta.copy()\n",
    "out_meta.update({\n",
    "    \"driver\": \"GTiff\",\n",
    "    \"height\": mosaic.shape[1],\n",
    "    \"width\": mosaic.shape[2],\n",
    "    \"transform\": out_transform,\n",
    "    \"crs\": \"EPSG:4326\"\n",
    "})\n",
    "\n",
    "# Mozaik rasteri diske yaz\n",
    "with rasterio.open(ELEV_MOSAIC_PATH, \"w\", **out_meta) as dest:\n",
    "    dest.write(mosaic)\n",
    "\n",
    "print(f\"Yükseklik verisi mozaiklenerek {ELEV_MOSAIC_PATH.name} dosyasına kaydedildi.\")\n"
   ]
  },
  {
   "cell_type": "code",
   "execution_count": 8,
   "id": "13c83b33-7d92-4861-9be9-2dc7061b7498",
   "metadata": {},
   "outputs": [
    {
     "name": "stdout",
     "output_type": "stream",
     "text": [
      "Kırpılmış yükseklik verisi srtm_turkiye_cropped.tif dosyasına kaydedildi.\n"
     ]
    }
   ],
   "source": [
    "# Mozaiklenmiş rasterı oku\n",
    "with rasterio.open(ELEV_MOSAIC_PATH) as src:\n",
    "    out_image, out_transform = mask(src, turkey_geom, crop=True)\n",
    "    out_meta = src.meta.copy()\n",
    "\n",
    "# Metadata güncelle\n",
    "out_meta.update({\n",
    "    \"height\": out_image.shape[1],\n",
    "    \"width\": out_image.shape[2],\n",
    "    \"transform\": out_transform\n",
    "})\n",
    "\n",
    "# Kırpılmış rasterı kaydet\n",
    "with rasterio.open(ELEV_CROPPED_PATH, \"w\", **out_meta) as dest:\n",
    "    dest.write(out_image)\n",
    "\n",
    "print(f\"Kırpılmış yükseklik verisi {ELEV_CROPPED_PATH.name} dosyasına kaydedildi.\")\n"
   ]
  },
  {
   "cell_type": "code",
   "execution_count": 9,
   "id": "79851dcd-19fb-45fc-b2bd-0d89cce744a6",
   "metadata": {},
   "outputs": [
    {
     "name": "stdout",
     "output_type": "stream",
     "text": [
      "Kırpılmış ışık verisi viirs_light_2024_turkey.tif dosyasına kaydedildi.\n"
     ]
    }
   ],
   "source": [
    "# VIIRS rasterını oku ve Türkiye sınırına kırp\n",
    "with rasterio.open(LIGHT_PATH) as src:\n",
    "    light_crop, light_transform = mask(src, turkey_geom, crop=True)\n",
    "    light_meta = src.meta.copy()\n",
    "\n",
    "# Metadata güncelle\n",
    "light_meta.update({\n",
    "    \"height\": light_crop.shape[1],\n",
    "    \"width\": light_crop.shape[2],\n",
    "    \"transform\": light_transform\n",
    "})\n",
    "\n",
    "# Kırpılmış ışık rasterını kaydet\n",
    "with rasterio.open(LIGHT_CROPPED_PATH, \"w\", **light_meta) as dest:\n",
    "    dest.write(light_crop)\n",
    "\n",
    "print(f\"Kırpılmış ışık verisi {LIGHT_CROPPED_PATH.name} dosyasına kaydedildi.\")\n"
   ]
  },
  {
   "cell_type": "code",
   "execution_count": 10,
   "id": "5c6dcd94-2621-4c3e-9fa9-87653e64d352",
   "metadata": {},
   "outputs": [
    {
     "name": "stdout",
     "output_type": "stream",
     "text": [
      "\n",
      "--- Rakım (Yükseklik) Verisi ---\n",
      "Min: -38\n",
      "Max: 5112\n",
      "Mean: 1139.78\n",
      "Shape: (22650, 69013)\n",
      "Nodata: -32767.0\n",
      "\n",
      "--- Işık Kirliliği Verisi ---\n",
      "Min: 0.0\n",
      "Max: 320.30999755859375\n",
      "Mean: 0.98\n",
      "Shape: (1511, 4601)\n",
      "Nodata: None\n"
     ]
    }
   ],
   "source": [
    "# Sayısal analiz fonksiyonu\n",
    "def analyze_raster(path, desc):\n",
    "    with rasterio.open(path) as src:\n",
    "        data = src.read(1)\n",
    "        masked_data = np.ma.masked_equal(data, src.nodata)\n",
    "        print(f\"\\n--- {desc} ---\")\n",
    "        print(f\"Min: {masked_data.min()}\")\n",
    "        print(f\"Max: {masked_data.max()}\")\n",
    "        print(f\"Mean: {masked_data.mean():.2f}\")\n",
    "        print(f\"Shape: {masked_data.shape}\")\n",
    "        print(f\"Nodata: {src.nodata}\")\n",
    "\n",
    "# Yükseklik rasterı analizi\n",
    "analyze_raster(ELEV_CROPPED_PATH, \"Rakım (Yükseklik) Verisi\")\n",
    "\n",
    "# Işık kirliliği rasterı analizi\n",
    "analyze_raster(LIGHT_CROPPED_PATH, \"Işık Kirliliği Verisi\")\n"
   ]
  },
  {
   "cell_type": "code",
   "execution_count": 16,
   "id": "398bee84-c983-4d3e-87aa-d7c9687d2b96",
   "metadata": {},
   "outputs": [
    {
     "name": "stdout",
     "output_type": "stream",
     "text": [
      "\n",
      "--- Rakım (Yükseklik) Histogram ---\n",
      "  -38.00 -   477.00: 179466363 piksel\n",
      "  477.00 -   992.00: 262317640 piksel\n",
      "  992.00 -  1507.00: 318524406 piksel\n",
      " 1507.00 -  2022.00: 184985145 piksel\n",
      " 2022.00 -  2537.00: 82083864 piksel\n",
      " 2537.00 -  3052.00: 22702230 piksel\n",
      " 3052.00 -  3567.00: 2733893 piksel\n",
      " 3567.00 -  4082.00: 72412 piksel\n",
      " 4082.00 -  4597.00: 14316 piksel\n",
      " 4597.00 -  5112.00: 6417 piksel\n",
      "\n",
      "--- Işık Kirliliği Histogram ---\n",
      "    0.00 -    32.03: 6911415 piksel\n",
      "   32.03 -    64.06: 29047 piksel\n",
      "   64.06 -    96.09: 10209 piksel\n",
      "   96.09 -   128.12: 1120 piksel\n",
      "  128.12 -   160.15: 215 piksel\n",
      "  160.15 -   192.19: 69 piksel\n",
      "  192.19 -   224.22: 21 piksel\n",
      "  224.22 -   256.25: 8 piksel\n",
      "  256.25 -   288.28: 5 piksel\n",
      "  288.28 -   320.31: 2 piksel\n"
     ]
    },
    {
     "data": {
      "text/plain": [
       "(array([6911415,   29047,   10209,    1120,     215,      69,      21,\n",
       "              8,       5,       2], dtype=int64),\n",
       " array([  0.   ,  32.031,  64.062,  96.093, 128.124, 160.155, 192.186,\n",
       "        224.217, 256.248, 288.279, 320.31 ], dtype=float32))"
      ]
     },
     "execution_count": 16,
     "metadata": {},
     "output_type": "execute_result"
    }
   ],
   "source": [
    "def compute_histogram(path, bins=50, desc=\"Raster\"):\n",
    "    with rasterio.open(path) as src:\n",
    "        data = src.read(1)\n",
    "        masked_data = np.ma.masked_equal(data, src.nodata)\n",
    "\n",
    "        # Histogram hesapla\n",
    "        hist, bin_edges = np.histogram(masked_data.compressed(), bins=bins)\n",
    "\n",
    "        print(f\"\\n--- {desc} Histogram ---\")\n",
    "        for i in range(len(hist)):\n",
    "            print(f\"{bin_edges[i]:8.2f} - {bin_edges[i+1]:8.2f}: {hist[i]} piksel\")\n",
    "\n",
    "        return hist, bin_edges\n",
    "\n",
    "# Yükseklik verisi için histogram\n",
    "compute_histogram(ELEV_CROPPED_PATH, bins=10, desc=\"Rakım (Yükseklik)\")\n",
    "\n",
    "# Işık kirliliği verisi için histogram\n",
    "compute_histogram(LIGHT_CROPPED_PATH, bins=10, desc=\"Işık Kirliliği\")\n"
   ]
  },
  {
   "cell_type": "code",
   "execution_count": 17,
   "id": "9a1efc1f-d0b4-42d5-a6e0-9d8288333363",
   "metadata": {},
   "outputs": [
    {
     "name": "stdout",
     "output_type": "stream",
     "text": [
      "\n",
      "--- Rakım (Yükseklik) İstatistikleri ---\n",
      "Min         :   -38.00\n",
      "Max         :  5112.00\n",
      "Mean        :  1139.78\n",
      "Std         :   654.87\n",
      "25%         :   689.00\n",
      "50% (Median):  1090.00\n",
      "75%         :  1575.00\n",
      "90%         :  2031.00\n",
      "95%         :  2301.00\n",
      "99%         :  2778.00\n",
      "\n",
      "--- Işık Kirliliği İstatistikleri ---\n",
      "Min         :     0.00\n",
      "Max         :   320.31\n",
      "Mean        :     0.98\n",
      "Std         :     4.98\n",
      "25%         :     0.00\n",
      "50% (Median):     0.00\n",
      "75%         :     0.65\n",
      "90%         :     1.55\n",
      "95%         :     3.01\n",
      "99%         :    18.73\n"
     ]
    },
    {
     "data": {
      "text/plain": [
       "{'Min': 0.0,\n",
       " 'Max': 320.31,\n",
       " 'Mean': 0.9803241,\n",
       " 'Std': 4.978313,\n",
       " '25%': 0.0,\n",
       " '50% (Median)': 0.0,\n",
       " '75%': 0.6462754905223846,\n",
       " '90%': 1.5545257329940796,\n",
       " '95%': 3.005101799964905,\n",
       " '99%': 18.72749061584478}"
      ]
     },
     "execution_count": 17,
     "metadata": {},
     "output_type": "execute_result"
    }
   ],
   "source": [
    "def describe_raster(path, desc=\"Raster\"):\n",
    "    with rasterio.open(path) as src:\n",
    "        data = src.read(1)\n",
    "        masked_data = np.ma.masked_equal(data, src.nodata)\n",
    "        values = masked_data.compressed()\n",
    "\n",
    "        stats = {\n",
    "            \"Min\": values.min(),\n",
    "            \"Max\": values.max(),\n",
    "            \"Mean\": values.mean(),\n",
    "            \"Std\": values.std(),\n",
    "            \"25%\": np.percentile(values, 25),\n",
    "            \"50% (Median)\": np.percentile(values, 50),\n",
    "            \"75%\": np.percentile(values, 75),\n",
    "            \"90%\": np.percentile(values, 90),\n",
    "            \"95%\": np.percentile(values, 95),\n",
    "            \"99%\": np.percentile(values, 99),\n",
    "        }\n",
    "\n",
    "        print(f\"\\n--- {desc} İstatistikleri ---\")\n",
    "        for k, v in stats.items():\n",
    "            print(f\"{k:<12}: {v:>8.2f}\")\n",
    "        return stats\n",
    "\n",
    "describe_raster(ELEV_CROPPED_PATH, desc=\"Rakım (Yükseklik)\")\n",
    "describe_raster(LIGHT_CROPPED_PATH, desc=\"Işık Kirliliği\")\n",
    "\n"
   ]
  },
  {
   "cell_type": "code",
   "execution_count": 3,
   "id": "7ded8df4-6288-4d73-823f-8999ff05e574",
   "metadata": {},
   "outputs": [
    {
     "name": "stdout",
     "output_type": "stream",
     "text": [
      "🧾 Veri Kümesi Genel Bilgi:\n",
      "\n",
      "<class 'pandas.core.frame.DataFrame'>\n",
      "RangeIndex: 4173 entries, 0 to 4172\n",
      "Data columns (total 26 columns):\n",
      " #   Column                   Non-Null Count  Dtype  \n",
      "---  ------                   --------------  -----  \n",
      " 0   latitude                 4173 non-null   float64\n",
      " 1   longitude                4173 non-null   float64\n",
      " 2   ALLSKY_SFC_PAR_TOT_grp1  4173 non-null   float64\n",
      " 3   ALLSKY_SFC_SW_DWN_grp1   4173 non-null   float64\n",
      " 4   CLOUD_AMT_grp1           4173 non-null   float64\n",
      " 5   CLOUD_AMT_DAY_grp1       4173 non-null   float64\n",
      " 6   CLOUD_AMT_NIGHT_grp1     4173 non-null   float64\n",
      " 7   CLRSKY_DAYS_grp1         4173 non-null   float64\n",
      " 8   CLRSKY_SFC_SW_DWN_grp1   4173 non-null   float64\n",
      " 9   QV2M_grp2                4173 non-null   float64\n",
      " 10  RH2M_grp2                4173 non-null   float64\n",
      " 11  T2M_grp2                 4173 non-null   float64\n",
      " 12  T2MDEW_grp2              4173 non-null   float64\n",
      " 13  T2MWET_grp2              4173 non-null   float64\n",
      " 14  T2M_MAX_grp2             4173 non-null   float64\n",
      " 15  T2M_MIN_grp2             4173 non-null   float64\n",
      " 16  T2M_RANGE_grp2           4173 non-null   float64\n",
      " 17  TQV_grp2                 4173 non-null   float64\n",
      " 18  PS_grp3                  4173 non-null   float64\n",
      " 19  SLP_grp3                 4173 non-null   float64\n",
      " 20  WD2M_grp3                4173 non-null   float64\n",
      " 21  WS2M_grp3                4173 non-null   float64\n",
      " 22  WS2M_MAX_grp3            4173 non-null   float64\n",
      " 23  PRECTOTCORR_grp4         4173 non-null   float64\n",
      " 24  TO3_grp4                 4173 non-null   float64\n",
      " 25  TS_grp4                  4173 non-null   float64\n",
      "dtypes: float64(26)\n",
      "memory usage: 847.8 KB\n",
      "None\n",
      "\n",
      "🔍 İlk 5 Satır:\n",
      "\n",
      "   latitude  longitude  ALLSKY_SFC_PAR_TOT_grp1  ALLSKY_SFC_SW_DWN_grp1  \\\n",
      "0      36.0       36.0                     0.96                    2.20   \n",
      "1      36.0       36.0                     1.33                    3.05   \n",
      "2      36.0       36.0                     1.95                    4.46   \n",
      "3      36.0       36.0                     2.53                    5.75   \n",
      "4      36.0       36.0                     3.09                    6.96   \n",
      "\n",
      "   CLOUD_AMT_grp1  CLOUD_AMT_DAY_grp1  CLOUD_AMT_NIGHT_grp1  CLRSKY_DAYS_grp1  \\\n",
      "0           62.87               63.76                 62.23              44.0   \n",
      "1           60.94               62.36                 59.69              54.0   \n",
      "2           53.98               56.13                 51.68              76.0   \n",
      "3           49.34               53.38                 44.56              66.0   \n",
      "4           37.03               41.24                 30.31              81.0   \n",
      "\n",
      "   CLRSKY_SFC_SW_DWN_grp1  QV2M_grp2  ...  T2M_RANGE_grp2  TQV_grp2  PS_grp3  \\\n",
      "0                    3.27       5.21  ...            9.34     11.94    97.42   \n",
      "1                    4.34       5.69  ...            9.69     12.17    97.28   \n",
      "2                    5.75       6.73  ...           10.56     13.22    97.12   \n",
      "3                    7.03       7.86  ...           11.44     15.77    96.99   \n",
      "4                    7.88       9.56  ...           12.70     19.69    96.90   \n",
      "\n",
      "   SLP_grp3  WD2M_grp3  WS2M_grp3  WS2M_MAX_grp3  PRECTOTCORR_grp4  TO3_grp4  \\\n",
      "0    101.75       94.6       2.55           9.52              3.91    319.37   \n",
      "1    101.60      110.6       2.50           9.10              3.30    328.52   \n",
      "2    101.39      227.4       2.31          10.48              1.90    336.17   \n",
      "3    101.21      244.7       2.15           9.07              1.36    341.72   \n",
      "4    101.05      257.7       2.22           8.44              0.95    328.45   \n",
      "\n",
      "   TS_grp4  \n",
      "0     6.33  \n",
      "1     7.92  \n",
      "2    11.36  \n",
      "3    15.53  \n",
      "4    21.17  \n",
      "\n",
      "[5 rows x 26 columns]\n",
      "\n",
      "🧭 Sütunlar:\n",
      "\n",
      "['latitude', 'longitude', 'ALLSKY_SFC_PAR_TOT_grp1', 'ALLSKY_SFC_SW_DWN_grp1', 'CLOUD_AMT_grp1', 'CLOUD_AMT_DAY_grp1', 'CLOUD_AMT_NIGHT_grp1', 'CLRSKY_DAYS_grp1', 'CLRSKY_SFC_SW_DWN_grp1', 'QV2M_grp2', 'RH2M_grp2', 'T2M_grp2', 'T2MDEW_grp2', 'T2MWET_grp2', 'T2M_MAX_grp2', 'T2M_MIN_grp2', 'T2M_RANGE_grp2', 'TQV_grp2', 'PS_grp3', 'SLP_grp3', 'WD2M_grp3', 'WS2M_grp3', 'WS2M_MAX_grp3', 'PRECTOTCORR_grp4', 'TO3_grp4', 'TS_grp4']\n",
      "\n",
      "📊 Temel İstatistikler:\n",
      "\n",
      "                          count        mean         std     min     25%  \\\n",
      "latitude                 4173.0   39.068536    1.387685   36.00   38.00   \n",
      "longitude                4173.0   35.225857    4.879133   26.50   31.00   \n",
      "ALLSKY_SFC_PAR_TOT_grp1  4173.0    2.030110    0.860316    0.56    1.23   \n",
      "ALLSKY_SFC_SW_DWN_grp1   4173.0    4.593623    1.934323    1.26    2.81   \n",
      "CLOUD_AMT_grp1           4173.0   53.356370   18.593117    6.38   40.99   \n",
      "CLOUD_AMT_DAY_grp1       4173.0   53.503043   17.718487    8.16   42.17   \n",
      "CLOUD_AMT_NIGHT_grp1     4173.0   52.737659   19.870195    3.50   40.59   \n",
      "CLRSKY_DAYS_grp1         4173.0  121.984184  258.980287 -999.00   13.00   \n",
      "CLRSKY_SFC_SW_DWN_grp1   4173.0    5.691630    1.945608    2.08    4.03   \n",
      "QV2M_grp2                4173.0    6.037304    2.170534    2.01    4.36   \n",
      "RH2M_grp2                4173.0   65.640467   14.407409   18.70   57.46   \n",
      "T2M_grp2                 4173.0   11.318778    8.919103  -10.21    4.54   \n",
      "T2MDEW_grp2              4173.0    3.431464    5.693441  -12.23   -0.57   \n",
      "T2MWET_grp2              4173.0    7.375121    7.092408  -10.94    2.07   \n",
      "T2M_MAX_grp2             4173.0   28.901819    9.257881    3.17   21.71   \n",
      "T2M_MIN_grp2             4173.0   -6.260105   11.824727  -33.30  -16.26   \n",
      "T2M_RANGE_grp2           4173.0   11.668234    2.775451    3.23    9.63   \n",
      "TQV_grp2                 4173.0   13.041972    4.973947    3.46    9.21   \n",
      "PS_grp3                  4173.0   88.913324    6.019502   74.69   84.68   \n",
      "SLP_grp3                 4173.0  101.365214    0.427404   99.94  101.12   \n",
      "WD2M_grp3                4173.0  176.910903  112.266621    0.10   60.10   \n",
      "WS2M_grp3                4173.0    2.208301    0.558506    0.33    1.90   \n",
      "WS2M_MAX_grp3            4173.0    9.503973    2.555608    1.23    7.73   \n",
      "PRECTOTCORR_grp4         4173.0    1.516439    0.921379    0.00    0.96   \n",
      "TO3_grp4                 4173.0  312.073659   24.693585  271.36  287.48   \n",
      "TS_grp4                  4173.0   11.526990    9.812415  -13.98    4.20   \n",
      "\n",
      "                            50%     75%      max  \n",
      "latitude                  39.00   40.00    42.00  \n",
      "longitude                 35.00   39.50    44.50  \n",
      "ALLSKY_SFC_PAR_TOT_grp1    2.05    2.80     3.61  \n",
      "ALLSKY_SFC_SW_DWN_grp1     4.60    6.30     8.18  \n",
      "CLOUD_AMT_grp1            56.70   68.26    87.13  \n",
      "CLOUD_AMT_DAY_grp1        57.14   67.61    86.18  \n",
      "CLOUD_AMT_NIGHT_grp1      54.81   68.88    92.17  \n",
      "CLRSKY_DAYS_grp1          43.00  126.00  1768.00  \n",
      "CLRSKY_SFC_SW_DWN_grp1     5.79    7.41     8.76  \n",
      "QV2M_grp2                  5.79    7.48    14.45  \n",
      "RH2M_grp2                 68.16   76.08    94.36  \n",
      "T2M_grp2                  11.31   18.53    33.22  \n",
      "T2MDEW_grp2                3.47    7.42    18.97  \n",
      "T2MWET_grp2                7.57   13.00    24.17  \n",
      "T2M_MAX_grp2              29.60   36.78    47.45  \n",
      "T2M_MIN_grp2              -5.46    3.28    22.57  \n",
      "T2M_RANGE_grp2            11.74   13.47    18.33  \n",
      "TQV_grp2                  12.50   16.08    31.56  \n",
      "PS_grp3                   89.18   92.87   101.14  \n",
      "SLP_grp3                 101.42  101.72   102.07  \n",
      "WD2M_grp3                195.80  264.00   360.00  \n",
      "WS2M_grp3                  2.17    2.49     5.67  \n",
      "WS2M_MAX_grp3              9.50   11.32    19.47  \n",
      "PRECTOTCORR_grp4           1.46    1.94     7.25  \n",
      "TO3_grp4                 308.57  335.14   361.89  \n",
      "TS_grp4                   11.56   19.45    35.58  \n",
      "\n",
      "⚠️ Eksik Veri Sayısı:\n",
      "\n",
      "Series([], dtype: int64)\n"
     ]
    }
   ],
   "source": [
    "import pandas as pd\n",
    "from pathlib import Path\n",
    "\n",
    "# Dosya yolu\n",
    "csv_path = Path(\"../data/processed/climate/merged_climate_data.csv\")\n",
    "\n",
    "# CSV dosyasını oku\n",
    "df = pd.read_csv(csv_path)\n",
    "\n",
    "# --- Temel Bilgiler ---\n",
    "print(\"🧾 Veri Kümesi Genel Bilgi:\\n\")\n",
    "print(df.info())\n",
    "\n",
    "# --- İlk 5 Satırı Göster ---\n",
    "print(\"\\n🔍 İlk 5 Satır:\\n\")\n",
    "print(df.head())\n",
    "\n",
    "# --- Sütun İsimleri ---\n",
    "print(\"\\n🧭 Sütunlar:\\n\")\n",
    "print(df.columns.tolist())\n",
    "\n",
    "# --- Sayısal Sütunlardan Özet İstatistikler ---\n",
    "print(\"\\n📊 Temel İstatistikler:\\n\")\n",
    "print(df.describe().T)\n",
    "\n",
    "# --- Eksik Veri Kontrolü ---\n",
    "print(\"\\n⚠️ Eksik Veri Sayısı:\\n\")\n",
    "print(df.isna().sum()[df.isna().sum() > 0])\n"
   ]
  },
  {
   "cell_type": "markdown",
   "id": "d326b49c-a2c7-4b53-a5ba-46d65cce7e73",
   "metadata": {},
   "source": [
    "---\n",
    "\n",
    "| Parametre Adı           | Anlamı                                | Birim      | Grup   | Count | Mean     | Std      | Min    | 25%    | 50%    | 75%    | Max    |\r\n",
    "|------------------------|----------------------------------------|------------|--------|-------|----------|----------|--------|--------|--------|--------|--------|\r\n",
    "| latitude               | Enlem                                  | °          | -      | 4173  | 39.0685  | 1.3877   | 36.00  | 38.00  | 39.00  | 40.00  | 42.00  |\r\n",
    "| longitude              | Boylam                                 | °          | -      | 4173  | 35.2259  | 4.8791   | 26.50  | 31.00  | 35.00  | 39.00  | 45.00  |\r\n",
    "| ALLSKY_SFC_PAR_TOT_grp1| Fotosentetik aktif radyasyon (toplam)  | MJ/m²/gün  | grp1   | 4173  | 2.0301   | 0.8603   | 0.56   | 1.23   | 1.86   | 2.91   | 4.56   |\r\n",
    "| ALLSKY_SFC_SW_DWN_grp1 | Tüm gökyüzü kısa dalga radyasyon       | kWh/m²/gün | grp1   | 4173  | 4.5936   | 1.9343   | 1.26   | 2.81   | 4.33   | 6.50   | 8.36   |\r\n",
    "| CLOUD_AMT_grp1         | Ortalama bulutluluk oranı              | %          | grp1   | 4173  | 53.3564  | 18.5931  | 6.38   | 40.99  | 55.79  | 67.43  | 92.38  |\r\n",
    "| CLOUD_AMT_DAY_grp1     | Gündüz bulutluluk oranı                | %          | grp1   | 4173  | 53.5030  | 17.7185  | 8.16   | 42.17  | 56.67  | 66.66  | 89.41  |\r\n",
    "| CLOUD_AMT_NIGHT_grp1   | Gece bulutluluk oranı                  | %          | grp1   | 4173  | 52.7377  | 19.8702  | 3.50   | 40.59  | 56.20  | 68.97  | 93.12  |\r\n",
    "| CLRSKY_DAYS_grp1       | Açık gün sayısı (yılda)                | gün        | grp1   | 4173  | 121.9842 | 258.9803 | -999.0 | 13.00  | 80.00  | 171.00 | 1465.0 |\r\n",
    "| CLRSKY_SFC_SW_DWN_grp1 | Açık gökyüzü kısa dalga radyasyon      | kWh/m²/gün | grp1   | 4173  | 5.6916   | 1.9456   | 2.08   | 4.03   | 5.57   | 7.24   | 9.93   |\r\n",
    "| QV2M_grp2              | 2m özgül nem                           | g/kg       | grp2   | 4173  | 6.0373   | 2.1705   | 2.01   | 4.36   | 5.54   | 7.37   | 12.53  |\r\n",
    "| RH2M_grp2              | 2m bağıl nem                           | %          | grp2   | 4173  | 65.6405  | 14.4074  | 18.70  | 57.46  | 66.15  | 74.65  | 87.48  |\r\n",
    "| T2M_grp2               | 2m sıcaklık                            | °C         | grp2   | 4173  | 11.3188  | 8.9191   | -10.21 | 4.54   | 10.69  | 17.53  | 30.38  |\r\n",
    "| T2MDEW_grp2            | Çiy noktası sıcaklığı                  | °C         | grp2   | 4173  | 3.4315   | 5.6934   | -12.23 | -0.57  | 2.06   | 6.70   | 18.86  |\r\n",
    "| T2MWET_grp2            | Islak termometre sıcaklığı             | °C         | grp2   | 4173  | 7.3751   | 7.0924   | -10.94 | 2.07   | 6.28   | 11.81  | 24.00  |\r\n",
    "| T2M_MAX_grp2           | Maksimum sıcaklık                      | °C         | grp2   | 4173  | 28.9018  | 9.2579   | 3.17   | 21.71  | 28.32  | 36.26  | 51.21  |\r\n",
    "| T2M_MIN_grp2           | Minimum sıcaklık                       | °C         | grp2   | 4173  | -6.2601  | 11.8247  | -33.30 | -16.26 | -5.77  | 2.67   | 24.09  |\r\n",
    "| T2M_RANGE_grp2         | Günlük sıcaklık farkı                  | °C         | grp2   | 4173  | 11.6682  | 2.7755   | 3.23   | 9.63   | 11.50  | 13.61  | 20.37  |\r\n",
    "| TQV_grp2               | Toplam su buharı                       | kg/m²      | grp2   | 4173  | 13.0420  | 4.9739   | 3.46   | 9.21   | 12.27  | 16.02  | 29.94  |\r\n",
    "| PS_grp3                | Yüzey basıncı                          | kPa        | grp3   | 4173  | 88.9133  | 6.0195   | 74.69  | 84.68  | 88.79  | 93.62  | 106.36 |\r\n",
    "| SLP_grp3               | Deniz seviyesi basıncı                 | kPa        | grp3   | 4173  | 101.3652 | 0.4274   | 99.94  | 101.12 | 101.37 | 101.67 | 102.38 |\r\n",
    "| WD2M_grp3              | Rüzgar yönü (2m)                       | °          | grp3   | 4173  | 176.9109 | 112.2666 | 0.10   | 60.10  | 190.00 | 290.00 | 359.90 |\r\n",
    "| WS2M_grp3              | Rüzgar hızı (2m)                       | m/s        | grp3   | 4173  | 2.2083   | 0.5585   | 0.33   | 1.90   | 2.13   | 2.47   | 5.32   |\r\n",
    "| WS2M_MAX_grp3          | Maksimum rüzgar hızı (2m)              | m/s        | grp3   | 4173  | 9.5040   | 2.5556   | 1.23   | 7.73   | 9.43   | 10.97  | 20.02  |\r\n",
    "| PRECTOTCORR_grp4       | Toplam düzeltilmiş yağış               | mm/gün     | grp4   | 4173  | 1.5164   | 0.9214   | 0.00   | 0.96   | 1.36   | 1.95   | 5.19   |\r\n",
    "| TO3_grp4               | Toplam ozon                            | Dobson     | grp4   | 4173  | 312.0737 | 24.6936  | 271.36 | 287.48 | 308.12 | 334.91 | 367.66 |\r\n",
    "| TS_grp4                | Yüzey sıcaklığı                        | °C         | grp4   | 4173  | 11.5270  | 9.8124    | -13.98 | 4.20   |10.12  | 17.52  | 32.14  |\r\n",
    " 12.53   |\r\n"
   ]
  },
  {
   "cell_type": "code",
   "execution_count": null,
   "id": "18dd8462-e141-43b4-80e0-80db8b51e2b4",
   "metadata": {},
   "outputs": [],
   "source": []
  }
 ],
 "metadata": {
  "kernelspec": {
   "display_name": "Python 3 (ipykernel)",
   "language": "python",
   "name": "python3"
  },
  "language_info": {
   "codemirror_mode": {
    "name": "ipython",
    "version": 3
   },
   "file_extension": ".py",
   "mimetype": "text/x-python",
   "name": "python",
   "nbconvert_exporter": "python",
   "pygments_lexer": "ipython3",
   "version": "3.11.7"
  }
 },
 "nbformat": 4,
 "nbformat_minor": 5
}
